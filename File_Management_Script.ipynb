{
  "nbformat": 4,
  "nbformat_minor": 0,
  "metadata": {
    "colab": {
      "provenance": []
    },
    "kernelspec": {
      "name": "python3",
      "display_name": "Python 3"
    },
    "language_info": {
      "name": "python"
    }
  },
  "cells": [
    {
      "cell_type": "code",
      "execution_count": null,
      "metadata": {
        "id": "pmYHmtnEN_iT"
      },
      "outputs": [],
      "source": []
    },
    {
      "cell_type": "markdown",
      "source": [
        "Task 1: File Management Script\n",
        "\n",
        " > Write a Bash script thatg\n",
        "- - Creates a directory named \"backup\" in the user's home directory^\n",
        "- - Copies all .txt files from the current directory into the \"backup\" directory^\n",
        "- - Appends the current date and time to the filenames of the copied files."
      ],
      "metadata": {
        "id": "UW4pj4KTO3G9"
      }
    },
    {
      "cell_type": "code",
      "source": [
        "#!/bin/bash\n",
        "\n",
        "# Create the backup directory if it doesn't exist\n",
        "mkdir -p \"$HOME/backup\"\n",
        "\n",
        "# Get the current date and time\n",
        "timestamp=$(date +\"%Y-%m-%d_%H-%M-%S\")\n",
        "\n",
        "# Copy and rename .txt files\n",
        "for file in *.txt; do\n",
        "    if [ -f \"$file\" ]; then\n",
        "        cp \"$file\" \"$HOME/backup/${file%.txt}_$timestamp.txt\"\n",
        "    fi\n",
        "done\n",
        "\n",
        "echo \"Backup of .txt files created in $HOME/backup.\""
      ],
      "metadata": {
        "id": "-HKoCbYKO4D1"
      },
      "execution_count": null,
      "outputs": []
    },
    {
      "cell_type": "markdown",
      "source": [
        "This script creates a backup directory in the user's home directory, copies all .txt files from the current directory into it, and renames them by appending the current date and time."
      ],
      "metadata": {
        "id": "WPhul6d5Rw2T"
      }
    },
    {
      "cell_type": "markdown",
      "source": [
        "Task 2: System Health Check\n",
        "\n",
        ">Create a script thatg\n",
        "- - Checks the systems CPU and memory usage^\n",
        "- - Reports if the CPU usage is above 80% or if the available memory is below 20%^\n",
        "- - Logs the results to a file named system_health.log."
      ],
      "metadata": {
        "id": "UiVpEv6jQQ-O"
      }
    },
    {
      "cell_type": "code",
      "source": [
        "#!/bin/bash\n",
        "\n",
        "# Get CPU and memory usage\n",
        "cpu_usage=$(top -bn1 | grep \"Cpu(s)\" | sed \"s/.*, *\\([0-9.]*\\)%* id.*/\\1/\" | awk '{print 100 - $1}')\n",
        "mem_usage=$(free | grep Mem | awk '{print $3/$2 * 100.0}')\n",
        "\n",
        "# Set thresholds\n",
        "cpu_threshold=80\n",
        "mem_threshold=80  # 100 - 20% available = 80% used\n",
        "\n",
        "# Log the results\n",
        "echo \"$(date): CPU Usage: $cpu_usage%, Memory Usage: $mem_usage%\" >> system_health.log\n",
        "\n",
        "# Check and report if thresholds are exceeded\n",
        "if (( $(echo \"$cpu_usage > $cpu_threshold\" | bc -l) )) || (( $(echo \"$mem_usage > $mem_threshold\" | bc -l) )); then\n",
        "    echo \"$(date): WARNING! System health alert: CPU or memory usage is high.\" >> system_health.log\n"
      ],
      "metadata": {
        "id": "zzknJzAFQ29C"
      },
      "execution_count": null,
      "outputs": []
    },
    {
      "cell_type": "markdown",
      "source": [
        "This script checks the CPU and memory usage and logs a warning to system_health.log if either the CPU usage exceeds 80% or available memory drops below 20%."
      ],
      "metadata": {
        "id": "DHFdTd3jR2pE"
      }
    },
    {
      "cell_type": "markdown",
      "source": [
        "Task 3: User Account Management\n",
        "\n",
        ">Write a script thatg\n",
        "- - Reads a list of usernames from a file (e.g., user_list.txt)^\n",
        "- - Creates a new user for each username^\n",
        "- - Generates a random password for each user and saves the username and password to a file named\n",
        "credentials.txt."
      ],
      "metadata": {
        "id": "d5JIOJJWRapG"
      }
    },
    {
      "cell_type": "code",
      "source": [
        "#!/bin/bash\n",
        "\n",
        "# Ensure user_list.txt exists\n",
        "if [ ! -f \"user_list.txt\" ]; then\n",
        "    echo \"Error: user_list.txt not found.\"\n",
        "    exit 1\n",
        "fi\n",
        "\n",
        "# Clear or create the credentials file\n",
        "> credentials.txt\n",
        "\n",
        "# Read usernames from the file\n",
        "while read username; do\n",
        "    # Generate a random password\n",
        "    password=$(openssl rand -base64 12)\n",
        "\n",
        "    # Create the user and set the password\n",
        "    useradd -m \"$username\"\n",
        "    echo \"$username:$password\" | chpasswd\n",
        "\n",
        "    # Save credentials\n",
        "    echo \"User: $username, Password: $password\" >> credentials.txt\n",
        "    echo \"User $username created.\"\n",
        "done < user_list.txt\n",
        "\n",
        "echo \"User creation process completed. Credentials saved to credentials.txt.\""
      ],
      "metadata": {
        "id": "9CJjBP61RnDF"
      },
      "execution_count": null,
      "outputs": []
    },
    {
      "cell_type": "markdown",
      "source": [
        "This script reads a list of usernames from a file, creates a new user for each, generates a random password, and saves the credentials to credentials.txt."
      ],
      "metadata": {
        "id": "YykZTm5PR57L"
      }
    },
    {
      "cell_type": "markdown",
      "source": [
        "Task 4: Automated Backup\n",
        "\n",
        ">Create a script thatg\n",
        "- -  Takes a directory path as input from the user^\n",
        "- - Compresses the directory into a .tar.gz file^\n",
        "- - Saves the compressed file with a name that includes the current date (e.g., backup_2023-08-20.tar.gz)."
      ],
      "metadata": {
        "id": "STtHSDEoR9mv"
      }
    },
    {
      "cell_type": "code",
      "source": [
        "#!/bin/bash\n",
        "\n",
        "# Prompt for the directory path\n",
        "read -p \"Enter the path of the directory to backup: \" directory_path\n",
        "\n",
        "# Check if the directory exists\n",
        "if [ ! -d \"$directory_path\" ]; then\n",
        "    echo \"Error: Directory not found.\"\n",
        "    exit 1\n",
        "fi\n",
        "\n",
        "# Get the current date\n",
        "date_stamp=$(date +\"%Y-%m-%d\")\n",
        "\n",
        "# Create the compressed file\n",
        "tar -czf \"backup_$date_stamp.tar.gz\" \"$directory_path\"\n",
        "\n",
        "echo \"Backup of $directory_path created as backup_$date_stamp.tar.gz.\""
      ],
      "metadata": {
        "id": "_jiyBObHSwnJ"
      },
      "execution_count": null,
      "outputs": []
    },
    {
      "cell_type": "markdown",
      "source": [
        "This script prompts the user for a directory path, compresses it into a .tar.gz file, and names the backup file with the current date."
      ],
      "metadata": {
        "id": "KZXx9-Y9SzJ_"
      }
    },
    {
      "cell_type": "markdown",
      "source": [
        "Task 5: Simple To-Do List\n",
        "\n",
        ">Create a Bash script thatg\n",
        "- - Implements a simple command-line to-do list^\n",
        "- - Allows the user to add tasks, view tasks, and remove tasks^\n",
        "- - Saves the tasks to a file (e.g., todo.txt)."
      ],
      "metadata": {
        "id": "35CvXYs9S86Q"
      }
    },
    {
      "cell_type": "code",
      "source": [
        "#!/bin/bash\n",
        "\n",
        "# Define the file to store tasks\n",
        "todo_file=\"todo.txt\"\n",
        "\n",
        "# Function to add a task\n",
        "add_task() {\n",
        "    read -p \"Enter a new task: \" task\n",
        "    echo \"$task\" >> \"$todo_file\"\n",
        "    echo \"Task added.\"\n",
        "}\n",
        "\n",
        "# Function to view tasks\n",
        "view_tasks() {\n",
        "    if [ -s \"$todo_file\" ]; then\n",
        "        echo \"Your To-Do List:\"\n",
        "        nl \"$todo_file\"\n",
        "    else\n",
        "        echo \"Your to-do list is empty.\"\n",
        "    fi\n",
        "}\n",
        "\n",
        "# Function to remove a task\n",
        "remove_task() {\n",
        "    if [ ! -s \"$todo_file\" ]; then\n",
        "        echo \"No tasks to remove.\"\n",
        "        return\n",
        "    fi\n",
        "    view_tasks\n",
        "    read -p \"Enter the number of the task to remove: \" task_number\n",
        "    # Remove the specified line\n",
        "    sed -i \"${task_number}d\" \"$todo_file\"\n",
        "    echo \"Task removed.\"\n",
        "}\n",
        "\n",
        "# Main menu\n",
        "while true; do\n",
        "    echo \"To-Do List Menu:\"\n",
        "    echo \"1. Add a task\"\n",
        "    echo \"2. View tasks\"\n",
        "    echo \"3. Remove a task\"\n",
        "    echo \"4. Exit\"\n",
        "    read -p \"Enter your choice: \" choice\n",
        "\n",
        "    case \"$choice\" in\n",
        "        1) add_task ;;\n",
        "        2) view_tasks ;;\n",
        "        3) remove_task ;;\n",
        "        4) echo \"Exiting.\"; break ;;\n",
        "        *) echo \"Invalid choice. Please try again.\" ;;\n",
        "    esac\n",
        "done"
      ],
      "metadata": {
        "id": "KyIEimjZTSAt"
      },
      "execution_count": null,
      "outputs": []
    },
    {
      "cell_type": "markdown",
      "source": [
        "This script provides a command-line interface for managing a simple to-do list, allowing users to add, view, and remove tasks."
      ],
      "metadata": {
        "id": "BWpNI3DkTXNB"
      }
    },
    {
      "cell_type": "markdown",
      "source": [
        "Task 6: Automated Software Installation\n",
        "\n",
        "Write a script thatg\n",
        "- Reads a list of software package names from a file (e.g., packages.txt)^\n",
        "- Installs each package using the appropriate package manager (apt, yum, etc.)^\n",
        "- Logs the installation status of each package."
      ],
      "metadata": {
        "id": "696RhmE_TaaL"
      }
    },
    {
      "cell_type": "code",
      "source": [
        "#!/bin/bash\n",
        "\n",
        "# Define log file\n",
        "log_file=\"installation_status.log\"\n",
        "> \"$log_file\"\n",
        "\n",
        "# Check for package manager\n",
        "if command -v apt > /dev/null; then\n",
        "    package_manager=\"apt-get\"\n",
        "    install_command=\"$package_manager install -y\"\n",
        "elif command -v yum > /dev/null; then\n",
        "    package_manager=\"yum\"\n",
        "    install_command=\"$package_manager install -y\"\n",
        "else\n",
        "    echo \"Error: No supported package manager (apt or yum) found.\" | tee -a \"$log_file\"\n",
        "    exit 1\n",
        "fi\n",
        "\n",
        "# Ensure packages.txt exists\n",
        "if [ ! -f \"packages.txt\" ]; then\n",
        "    echo \"Error: packages.txt not found.\" | tee -a \"$log_file\"\n",
        "    exit 1\n",
        "fi\n",
        "\n",
        "# Install packages from the list\n",
        "while read package_name; do\n",
        "    echo \"Installing $package_name...\" | tee -a \"$log_file\"\n",
        "    if sudo $install_command \"$package_name\"; then\n",
        "        echo \"$package_name installed successfully.\" | tee -a \"$log_file\"\n",
        "    else\n",
        "        echo \"Error: Failed to install $package_name.\" | tee -a \"$log_file\"\n",
        "    fi\n",
        "done < packages.txt\n",
        "\n",
        "echo \"Installation process completed. Details logged to $log_file.\""
      ],
      "metadata": {
        "id": "WWztJKabTvzg"
      },
      "execution_count": null,
      "outputs": []
    },
    {
      "cell_type": "markdown",
      "source": [
        "This script reads a list of packages from a file, determines the appropriate package manager (apt or yum), and attempts to install each package, logging the result.\n",
        "\n"
      ],
      "metadata": {
        "id": "vCAaqPCVTzic"
      }
    },
    {
      "cell_type": "markdown",
      "source": [
        "Task 7: Text File Processing\n",
        "\n",
        ">Create a script thatg\n",
        "- - Takes a text file as input^\n",
        "- - Counts and displays the number of lines, words, and characters in the file^\n",
        "- - Finds and displays the longest word in the file."
      ],
      "metadata": {
        "id": "COYRv-RCT2Mf"
      }
    },
    {
      "cell_type": "code",
      "source": [
        "#!/bin/bash\n",
        "\n",
        "# Check if a file path is provided\n",
        "if [ -z \"$1\" ]; then\n",
        "    echo \"Usage: $0 <filename>\"\n",
        "    exit 1\n",
        "fi\n",
        "\n",
        "file_path=\"$1\"\n",
        "\n",
        "# Check if the file exists\n",
        "if [ ! -f \"$file_path\" ]; then\n",
        "    echo \"Error: File not found.\"\n",
        "    exit 1\n",
        "fi\n",
        "\n",
        "# Count lines, words, and characters\n",
        "lines=$(wc -l < \"$file_path\")\n",
        "words=$(wc -w < \"$file_path\")\n",
        "characters=$(wc -m < \"$file_path\")\n",
        "\n",
        "# Find the longest word\n",
        "longest_word=$(grep -oE '\\w+' \"$file_path\" | tr ' ' '\\n' | awk '{ if (length > max_len) { max_len = length; longest_word = $0 } } END { print longest_word }')\n",
        "\n",
        "# Display the results\n",
        "echo \"File: $file_path\"\n",
        "echo \"----------------------------------------\"\n",
        "echo \"Number of lines: $lines\"\n",
        "echo \"Number of words: $words\"\n",
        "echo \"Number of characters: $characters\"\n",
        "echo \"Longest word: $longest_word\""
      ],
      "metadata": {
        "id": "vSv8ExODUOJP"
      },
      "execution_count": null,
      "outputs": []
    },
    {
      "cell_type": "markdown",
      "source": [
        "This script takes a text file as input and reports the number of lines, words, characters, and the longest word found within it.\n",
        "\n"
      ],
      "metadata": {
        "id": "yIQHWepXUc7J"
      }
    }
  ]
}